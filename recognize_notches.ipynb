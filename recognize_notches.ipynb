{
 "cells": [
  {
   "cell_type": "code",
   "execution_count": 1,
   "metadata": {},
   "outputs": [],
   "source": [
    "import os\n",
    "import matplotlib.pyplot as plt\n",
    "import numpy as np\n",
    "\n",
    "import cv2\n",
    "from cv2 import dilate\n",
    "from cv2 import adaptiveThreshold\n",
    "\n",
    "from os import listdir\n",
    "from os.path import isfile, join\n",
    "\n",
    "from skimage.morphology import *\n",
    "from skimage import io"
   ]
  },
  {
   "cell_type": "code",
   "execution_count": 2,
   "metadata": {},
   "outputs": [],
   "source": [
    "import pickle\n",
    "    \n",
    "with open ('outfile', 'rb') as fp:\n",
    "    data = pickle.load(fp)"
   ]
  },
  {
   "cell_type": "code",
   "execution_count": 3,
   "metadata": {},
   "outputs": [],
   "source": [
    "def ImageToFeatures(img):\n",
    "    data = []\n",
    "    for i, row in enumerate(img):\n",
    "        for j, val in enumerate(row):\n",
    "            if val:\n",
    "                data.append([j, i])\n",
    "    return data"
   ]
  },
  {
   "cell_type": "code",
   "execution_count": 155,
   "metadata": {},
   "outputs": [],
   "source": [
    "stat=[]\n",
    "for notch in data:    \n",
    "    fts = np.array(ImageToFeatures(notch))\n",
    "    area = len(fts)\n",
    "    left = min(fts[:,0])\n",
    "    top = max(fts[:,1])\n",
    "    right = max(fts[:,0])\n",
    "    bottom = min(fts[:,1])\n",
    "    width = right - left\n",
    "    height = top - bottom\n",
    "    stat.append([left, top, width, height, area])"
   ]
  },
  {
   "cell_type": "code",
   "execution_count": 156,
   "metadata": {},
   "outputs": [],
   "source": [
    "labels = [\n",
    "    #0\n",
    "    2, 0, 1, 2, 0, #4\n",
    "    #1\n",
    "    2, 1, 2, 5, 0, #9\n",
    "    #2\n",
    "    2, 5, 5, 0, 1, 0, #15\n",
    "    #3\n",
    "    5, 5, 5, 1, 0, #20\n",
    "    #4\n",
    "    5, 5, 5, 1, #24\n",
    "    #5\n",
    "    5, 5, 5, 1, #28\n",
    "    #6    \n",
    "    5, 5, 5, 1, #32\n",
    "    #7\n",
    "    5, 5, 5, 1, #36\n",
    "    #8\n",
    "    5, 5, 5, 1, #40\n",
    "    #9\n",
    "    5, 5, 5, 1, #44\n",
    "    #10\n",
    "    5, 5, 5, 1, #48\n",
    "    #11\n",
    "    5, 5, 5, 1, #52\n",
    "    #12\n",
    "    5, 5, 5, 1, #56\n",
    "    #13\n",
    "    5, 5, 5, 0, 1, #61\n",
    "    #14\n",
    "    5, 5, 5, 0, 1, #66\n",
    "    #15\n",
    "    2, 5, 5, 0, 1, #71\n",
    "    #16\n",
    "    2, 5, 1, 4, 2, 5, 1, #78\n",
    "    #17    \n",
    "    0, 2, 1, 5, 0, 0, 4, 2, 0, #87\n",
    "    #18\n",
    "    4, 0, 1, 0, 2, 0, 0, 5, 0, 0, 5, 1, #99\n",
    "    #19\n",
    "    4, 0, 1, 1, 5, 2, 1, #106\n",
    "    #20\n",
    "    4, 1, 1, 4, 0, 1, 0, #113\n",
    "    #21\n",
    "    4, 1, 0, 4, 1, 4, #119\n",
    "    #22\n",
    "    4, 1, 0, 1, 4, 1, 1, 4, 0, #128\n",
    "    #23\n",
    "    4, 0, 0, 1, 4, 5, 0, 4, 1, #137\n",
    "    #24\n",
    "    4, 1, 1, 1, 4, 0, 0, 4, 1, #146\n",
    "    #25\n",
    "    2, 0, 0, 1, 5, 4, 1, 1, 4, 1, #156\n",
    "    #26\n",
    "    2, 1, 1, 0, 2, 1, 0, 4,  #164\n",
    "    #27\n",
    "    0, 0, 1, 0, 1, 2, 0, 2, 1, #173\n",
    "    #28\n",
    "    1, 1, 2, 5, 1, #178\n",
    "    #29    \n",
    "    0, 1, 5, 2, 5, 1, 1, #184\n",
    "    #30\n",
    "    1, 5, 5, 5, 1, 1, #190\n",
    "    #31\n",
    "    0, 0, 5, 5, 5, 1, 1, #197\n",
    "    #32\n",
    "    1, 5, 5, 5, 1, 0, #203\n",
    "    #33\n",
    "    0, 5, 5, 5, 0, 1, 0, #210\n",
    "    #34\n",
    "    5, 5, 5, 0, 0, 1, 1, #217\n",
    "    #35\n",
    "    5, 5, 5, 0, 0, #222\n",
    "    #36\n",
    "    5, 5, 5, 1, 0, #227\n",
    "    #37\n",
    "    5, 5, 5, 0, 0, #232\n",
    "    #38\n",
    "    5, 5, 5, 0, 0, #237\n",
    "    #39\n",
    "    5, 5, 5, 0, 0, 0, #243\n",
    "    #40\n",
    "    5, 5, 5, 0, 0, 0, #249\n",
    "    #41\n",
    "    5, 5, 2, 0, 0, #254\n",
    "    #42\n",
    "    1, 5, 2, 2, 0, #259 !\n",
    "    #43\n",
    "    1, 2, 2, 0, 1, 0, #266 !\n",
    "    #44\n",
    "    1, 2, 2, 0, 1, 0, #272\n",
    "    #45\n",
    "    2, 4, 0, 1, 4, 0, #278\n",
    "    #46\n",
    "    4, 0, 4, 1, 0, 4, 1, #285\n",
    "    #47    \n",
    "    4, 0, 0, 4, 5, 1, 0, 1, #295\n",
    "    #48\n",
    "    4, 0, 4, 0, 0, 0, 1, \n",
    "    #49\n",
    "    4, 0, 0, 4, 0, 0, 1,\n",
    "    #50\n",
    "    4, 0, 0, 4, 1, 0, 1, \n",
    "    #51\n",
    "    4, 0, 4, 1, 0, 1, \n",
    "    #52\n",
    "    4, 0, 0, 4, 1, 1, 0, #327\n",
    "    #53\n",
    "    4, 0, 2, 5, 1, 0, 1, 1    \n",
    "]"
   ]
  },
  {
   "cell_type": "markdown",
   "metadata": {},
   "source": [
    "0 - мусор<br>\n",
    "1 - засвет<br>\n",
    "2 - крест<br>\n",
    "3 - круг<br>\n",
    "4 - горизонтальная засечка<br>\n",
    "5 - вертикальная засечка<br>"
   ]
  },
  {
   "cell_type": "code",
   "execution_count": 157,
   "metadata": {},
   "outputs": [],
   "source": [
    "labels = [0 if l in (0, 1, 2, 3) else 1 for l in labels]"
   ]
  },
  {
   "cell_type": "code",
   "execution_count": 158,
   "metadata": {},
   "outputs": [],
   "source": [
    "stat=np.array(stat)\n",
    "stat = stat[:,2:5]"
   ]
  },
  {
   "cell_type": "markdown",
   "metadata": {},
   "source": [
    "# Random forest classifier"
   ]
  },
  {
   "cell_type": "code",
   "execution_count": 221,
   "metadata": {},
   "outputs": [],
   "source": [
    "from sklearn.ensemble import RandomForestClassifier\n",
    "from sklearn.model_selection import train_test_split"
   ]
  },
  {
   "cell_type": "code",
   "execution_count": 222,
   "metadata": {},
   "outputs": [
    {
     "data": {
      "text/plain": [
       "RandomForestClassifier(bootstrap=True, class_weight=None, criterion='gini',\n",
       "            max_depth=None, max_features='auto', max_leaf_nodes=None,\n",
       "            min_impurity_decrease=0.0, min_impurity_split=None,\n",
       "            min_samples_leaf=1, min_samples_split=2,\n",
       "            min_weight_fraction_leaf=0.0, n_estimators=10, n_jobs=1,\n",
       "            oob_score=False, random_state=None, verbose=0,\n",
       "            warm_start=False)"
      ]
     },
     "execution_count": 222,
     "metadata": {},
     "output_type": "execute_result"
    }
   ],
   "source": [
    "clf = RandomForestClassifier()\n",
    "clf.fit(stat, labels)"
   ]
  },
  {
   "cell_type": "code",
   "execution_count": 223,
   "metadata": {},
   "outputs": [
    {
     "data": {
      "text/plain": [
       "1.0"
      ]
     },
     "execution_count": 223,
     "metadata": {},
     "output_type": "execute_result"
    }
   ],
   "source": [
    "sum(clf.predict(stat) == labels) / len(labels)"
   ]
  },
  {
   "cell_type": "code",
   "execution_count": 224,
   "metadata": {},
   "outputs": [
    {
     "data": {
      "text/plain": [
       "0.9761904761904762"
      ]
     },
     "execution_count": 224,
     "metadata": {},
     "output_type": "execute_result"
    }
   ],
   "source": [
    "X_train, X_test, y_train, y_test = train_test_split(stat, labels)\n",
    "clf.fit(X_train, y_train)\n",
    "sum(clf.predict(X_test) == y_test)/len(y_test)"
   ]
  },
  {
   "cell_type": "code",
   "execution_count": 225,
   "metadata": {},
   "outputs": [
    {
     "data": {
      "text/plain": [
       "['model.pkl']"
      ]
     },
     "execution_count": 225,
     "metadata": {},
     "output_type": "execute_result"
    }
   ],
   "source": [
    "from sklearn.externals import joblib\n",
    "joblib.dump(clf, 'model.pkl')"
   ]
  },
  {
   "cell_type": "code",
   "execution_count": null,
   "metadata": {},
   "outputs": [],
   "source": []
  }
 ],
 "metadata": {
  "kernelspec": {
   "display_name": "Python 3",
   "language": "python",
   "name": "python3"
  },
  "language_info": {
   "codemirror_mode": {
    "name": "ipython",
    "version": 3
   },
   "file_extension": ".py",
   "mimetype": "text/x-python",
   "name": "python",
   "nbconvert_exporter": "python",
   "pygments_lexer": "ipython3",
   "version": "3.6.5"
  }
 },
 "nbformat": 4,
 "nbformat_minor": 2
}

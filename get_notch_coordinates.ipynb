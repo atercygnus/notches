{
 "cells": [
  {
   "cell_type": "code",
   "execution_count": 1,
   "metadata": {},
   "outputs": [],
   "source": [
    "import os\n",
    "import matplotlib.pyplot as plt\n",
    "import numpy as np\n",
    "\n",
    "import cv2\n",
    "from cv2 import dilate\n",
    "from cv2 import adaptiveThreshold\n",
    "\n",
    "from os import listdir\n",
    "from os.path import isfile, join\n",
    "\n",
    "from skimage import io\n",
    "\n",
    "from sklearn.externals import joblib"
   ]
  },
  {
   "cell_type": "code",
   "execution_count": 2,
   "metadata": {},
   "outputs": [],
   "source": [
    "clf = joblib.load('model.pkl')"
   ]
  },
  {
   "cell_type": "code",
   "execution_count": 3,
   "metadata": {},
   "outputs": [],
   "source": [
    "def cv_remove_small_objects(im, min_size):\n",
    "    nb_components, output, stats, centroids = cv2.connectedComponentsWithStats(im, connectivity=8)\n",
    "    sizes = stats[1:, -1]; \n",
    "    nb_components = nb_components - 1\n",
    "\n",
    "    res = np.zeros((output.shape))\n",
    "    for i in range(0, nb_components):\n",
    "        if sizes[i] >= min_size:\n",
    "            res[output == i + 1] = 1\n",
    "            \n",
    "    return res\n",
    "\n",
    "def binarize(im):\n",
    "    binary_local = im=cv2.adaptiveThreshold(\n",
    "        src=np.array(cv2.medianBlur(im, 5), dtype=np.uint8), \n",
    "        maxValue=255, \n",
    "        adaptiveMethod=cv2.ADAPTIVE_THRESH_GAUSSIAN_C, \n",
    "        thresholdType=cv2.THRESH_BINARY_INV, \n",
    "        blockSize=505, \n",
    "        C=25)\n",
    "    \n",
    "    cleaned = cv_remove_small_objects(binary_local, 250)\n",
    "    \n",
    "    strel = cv2.getStructuringElement(cv2.MORPH_RECT,(40, 40))    \n",
    "    cleaned = cv2.dilate(np.array(cleaned, dtype=np.uint8), strel)\n",
    "    \n",
    "    cleaned = cv_remove_small_objects(cleaned, 15000)\n",
    "    \n",
    "    return cleaned\n",
    "\n",
    "def get_next_notch_center(im, clf):    \n",
    "    nb_components, output, stats, centroids = \\\n",
    "        cv2.connectedComponentsWithStats(np.array(im, dtype=np.uint8), connectivity=4)\n",
    "    \n",
    "    stats = np.array(stats)\n",
    "    stats = stats[:, 2:5]\n",
    "    \n",
    "    c_x, c_y = [s/2 for s in im.shape]\n",
    "    dists = [((c_x-x)**2+(c_y-y)**2)**.5 for x, y in centroids[1:]]\n",
    "    nh_ix = dists.index(min(dists)) + 1\n",
    "    x, y = centroids[nh_ix]\n",
    "    x, y = x-c_x, y-c_y\n",
    "    if clf.predict([stats[nh_ix]])[0]:\n",
    "        return (x, y)\n",
    "    else:\n",
    "        return (None, None)\n",
    "\n",
    "\n",
    "def parse_filename(fname):\n",
    "    fname = fname.split('.')[0]\n",
    "    x, y = [float(i.replace(',', '.')) for i in fname.split('x')]\n",
    "    return x, y"
   ]
  },
  {
   "cell_type": "code",
   "execution_count": 4,
   "metadata": {},
   "outputs": [],
   "source": [
    "path=os.getcwd() + '\\\\photo1\\\\'\n",
    "impaths = [f for f in listdir(path) if isfile(join(path, f))]"
   ]
  },
  {
   "cell_type": "code",
   "execution_count": 5,
   "metadata": {
    "scrolled": false
   },
   "outputs": [
    {
     "name": "stdout",
     "output_type": "stream",
     "text": [
      "processing 0x0.jpg (1 of 54)\n"
     ]
    },
    {
     "name": "stderr",
     "output_type": "stream",
     "text": [
      "D:\\Anaconda3\\lib\\site-packages\\skimage\\util\\dtype.py:130: UserWarning: Possible precision loss when converting from float64 to uint8\n",
      "  .format(dtypeobj_in, dtypeobj_out))\n"
     ]
    },
    {
     "name": "stdout",
     "output_type": "stream",
     "text": [
      "This is not a notch!\n",
      "processing 0x13,87.jpg (2 of 54)\n",
      "processing 0x21,92.jpg (3 of 54)\n",
      "processing 0x29,92.jpg (4 of 54)\n",
      "processing 0x37,83.jpg (5 of 54)\n",
      "processing 0x45,97.jpg (6 of 54)\n",
      "processing 0x5,89.jpg (7 of 54)\n",
      "This is not a notch!\n",
      "processing 0x53,98.jpg (8 of 54)\n",
      "processing 0x61,97.jpg (9 of 54)\n",
      "processing 0x69,98.jpg (10 of 54)\n",
      "processing 0x77,96.jpg (11 of 54)\n",
      "This is not a notch!\n",
      "processing 0x84,05.jpg (12 of 54)\n",
      "This is not a notch!\n",
      "processing 101,76x84,05.jpg (13 of 54)\n",
      "processing 101,96x0.jpg (14 of 54)\n",
      "processing 109,90x84,05.jpg (15 of 54)\n",
      "processing 110,05x0.jpg (16 of 54)\n",
      "processing 117,76x84,05.jpg (17 of 54)\n",
      "processing 117,95x0.jpg (18 of 54)\n",
      "processing 125,70x84,05.jpg (19 of 54)\n",
      "This is not a notch!\n",
      "processing 126,03x0.jpg (20 of 54)\n",
      "This is not a notch!\n",
      "processing 13,81x84,05.jpg (21 of 54)\n",
      "processing 131,95x0.jpg (22 of 54)\n",
      "This is not a notch!\n",
      "processing 131,95x13,96.jpg (23 of 54)\n",
      "This is not a notch!\n",
      "processing 131,95x21,91.jpg (24 of 54)\n",
      "processing 131,95x29,93.jpg (25 of 54)\n",
      "processing 131,95x45,91.jpg (26 of 54)\n",
      "This is not a notch!\n",
      "processing 131,95x5,95.jpg (27 of 54)\n",
      "processing 131,95x53,93.jpg (28 of 54)\n",
      "processing 131,95x62,04.jpg (29 of 54)\n",
      "This is not a notch!\n",
      "processing 131,95x69,98.jpg (30 of 54)\n",
      "This is not a notch!\n",
      "processing 131,95x77,99.jpg (31 of 54)\n",
      "This is not a notch!\n",
      "processing 131,95x84,05.jpg (32 of 54)\n",
      "This is not a notch!\n",
      "processing 14,01x0.jpg (33 of 54)\n",
      "processing 21,82x84,05.jpg (34 of 54)\n",
      "processing 22,09x0.jpg (35 of 54)\n",
      "processing 29,82x84,05.jpg (36 of 54)\n",
      "This is not a notch!\n",
      "processing 30,04x0.jpg (37 of 54)\n",
      "processing 37,72x84,05.jpg (38 of 54)\n",
      "processing 38,12x0.jpg (39 of 54)\n",
      "processing 45,88x84,05.jpg (40 of 54)\n",
      "processing 46,04x0.jpg (41 of 54)\n",
      "processing 5,74x84,05.jpg (42 of 54)\n",
      "This is not a notch!\n",
      "processing 53,96x84,05.jpg (43 of 54)\n",
      "processing 54,05x0.jpg (44 of 54)\n",
      "processing 6,01x0.jpg (45 of 54)\n",
      "This is not a notch!\n",
      "processing 61,80x84,05.jpg (46 of 54)\n",
      "processing 62,02x0.jpg (47 of 54)\n",
      "processing 69,82x84,05.jpg (48 of 54)\n",
      "processing 70,04x0.jpg (49 of 54)\n",
      "processing 77,80x84,05.jpg (50 of 54)\n",
      "This is not a notch!\n",
      "processing 78,07x0.jpg (51 of 54)\n",
      "processing 85,68x84,05.jpg (52 of 54)\n",
      "processing 86,04x0.jpg (53 of 54)\n",
      "processing 94,02x0.jpg (54 of 54)\n",
      "Wall time: 1min 55s\n"
     ]
    }
   ],
   "source": [
    "%%time\n",
    "\n",
    "notch_center_x = []\n",
    "notch_center_y = []\n",
    "\n",
    "im_center_x = []\n",
    "im_center_y = []\n",
    "\n",
    "notch=[]\n",
    "not_notch=[]\n",
    "\n",
    "for n, impath in enumerate(impaths):\n",
    "    print(\"processing \" + impath + \" \" + \"({} of {})\".format(n+1, len(impaths)))\n",
    "    image = cv2.imread(path+impath, cv2.IMREAD_GRAYSCALE)\n",
    "    bimage = binarize(image)\n",
    "    \n",
    "    io.imsave(os.getcwd() + '\\\\binarized\\\\' + impath, bimage)\n",
    "    \n",
    "    nh_center_x, nh_center_y = get_next_notch_center(bimage, clf)\n",
    "    if nh_center_x is None:\n",
    "        print('This is not a notch!')\n",
    "        not_notch.append(impath)\n",
    "        continue\n",
    "        \n",
    "    notch.append(impath)\n",
    "    \n",
    "    notch_center_x.append(nh_center_x)\n",
    "    notch_center_y.append(nh_center_y)\n",
    "    \n",
    "    im_x, im_y = parse_filename(impath)\n",
    "    im_center_x.append(im_x)\n",
    "    im_center_y.append(im_y)\n",
    "    \n",
    "notch_center_x = np.array(notch_center_x)\n",
    "notch_center_y = np.array(notch_center_y)\n",
    "im_center_x = np.array(im_center_x)\n",
    "im_center_y = np.array(im_center_y)"
   ]
  },
  {
   "cell_type": "code",
   "execution_count": 6,
   "metadata": {},
   "outputs": [
    {
     "data": {
      "text/plain": [
       "['0x0.jpg',\n",
       " '0x5,89.jpg',\n",
       " '0x77,96.jpg',\n",
       " '0x84,05.jpg',\n",
       " '125,70x84,05.jpg',\n",
       " '126,03x0.jpg',\n",
       " '131,95x0.jpg',\n",
       " '131,95x13,96.jpg',\n",
       " '131,95x45,91.jpg',\n",
       " '131,95x62,04.jpg',\n",
       " '131,95x69,98.jpg',\n",
       " '131,95x77,99.jpg',\n",
       " '131,95x84,05.jpg',\n",
       " '29,82x84,05.jpg',\n",
       " '5,74x84,05.jpg',\n",
       " '6,01x0.jpg',\n",
       " '77,80x84,05.jpg']"
      ]
     },
     "execution_count": 6,
     "metadata": {},
     "output_type": "execute_result"
    }
   ],
   "source": [
    "not_notch"
   ]
  },
  {
   "cell_type": "code",
   "execution_count": 7,
   "metadata": {},
   "outputs": [
    {
     "name": "stdout",
     "output_type": "stream",
     "text": [
      "Между засечками 1275 пикселей\n",
      "Между засечками 8 мм\n",
      "В 1 мм 0.006 пикселей\n",
      "В 1 пикселе 159.375 мм\n"
     ]
    }
   ],
   "source": [
    "pix = 1275\n",
    "mm = 8\n",
    "pix_mm = 1275/8\n",
    "mm_pix = 8/1275\n",
    "\n",
    "print('Между засечками 1275 пикселей')\n",
    "print('Между засечками 8 мм')\n",
    "print('В 1 мм {:.3f} пикселей'.format(mm_pix))\n",
    "print('В 1 пикселе {:.3f} мм'.format(pix_mm))"
   ]
  },
  {
   "cell_type": "code",
   "execution_count": 8,
   "metadata": {},
   "outputs": [],
   "source": [
    "notch_center_x=np.array([x/pix_mm for x in notch_center_x])\n",
    "notch_center_y=np.array([y/pix_mm for y in notch_center_y])"
   ]
  },
  {
   "cell_type": "code",
   "execution_count": 9,
   "metadata": {},
   "outputs": [],
   "source": [
    "notch_x = [x1+x2 for x1, x2 in zip(notch_center_x, im_center_x)]\n",
    "notch_y = [y1+y2 for y1, y2 in zip(notch_center_y, im_center_y)]"
   ]
  },
  {
   "cell_type": "code",
   "execution_count": 10,
   "metadata": {},
   "outputs": [
    {
     "data": {
      "text/plain": [
       "<matplotlib.collections.PathCollection at 0x1acdabf2c88>"
      ]
     },
     "execution_count": 10,
     "metadata": {},
     "output_type": "execute_result"
    },
    {
     "data": {
      "image/png": "[encoded data removed]",
      "text/plain": [
       "<Figure size 432x288 with 1 Axes>"
      ]
     },
     "metadata": {},
     "output_type": "display_data"
    }
   ],
   "source": [
    "plt.scatter(x=notch_x, y=notch_y)"
   ]
  },
  {
   "cell_type": "code",
   "execution_count": null,
   "metadata": {},
   "outputs": [],
   "source": []
  }
 ],
 "metadata": {
  "kernelspec": {
   "display_name": "Python 3",
   "language": "python",
   "name": "python3"
  },
  "language_info": {
   "codemirror_mode": {
    "name": "ipython",
    "version": 3
   },
   "file_extension": ".py",
   "mimetype": "text/x-python",
   "name": "python",
   "nbconvert_exporter": "python",
   "pygments_lexer": "ipython3",
   "version": "3.6.5"
  }
 },
 "nbformat": 4,
 "nbformat_minor": 2
}

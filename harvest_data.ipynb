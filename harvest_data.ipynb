{
 "cells": [
  {
   "cell_type": "code",
   "execution_count": 4,
   "metadata": {},
   "outputs": [],
   "source": [
    "import os\n",
    "import matplotlib.pyplot as plt\n",
    "import numpy as np\n",
    "\n",
    "import cv2\n",
    "from cv2 import dilate\n",
    "from cv2 import adaptiveThreshold\n",
    "\n",
    "from os import listdir\n",
    "from os.path import isfile, join\n",
    "\n",
    "from skimage.morphology import *\n",
    "from skimage import io"
   ]
  },
  {
   "cell_type": "code",
   "execution_count": 5,
   "metadata": {},
   "outputs": [],
   "source": [
    "def cv_remove_small_objects(im, min_size):\n",
    "    nb_components, output, stats, centroids = cv2.connectedComponentsWithStats(im, connectivity=8)\n",
    "    sizes = stats[1:, -1]; \n",
    "    nb_components = nb_components - 1\n",
    "\n",
    "    res = np.zeros((output.shape))\n",
    "    for i in range(0, nb_components):\n",
    "        if sizes[i] >= min_size:\n",
    "            res[output == i + 1] = 1\n",
    "            \n",
    "    return res\n",
    "\n",
    "def binarize(im):\n",
    "    binary_local = im=cv2.adaptiveThreshold(\n",
    "        src=np.array(cv2.medianBlur(im, 5), dtype=np.uint8), \n",
    "        maxValue=255, \n",
    "        adaptiveMethod=cv2.ADAPTIVE_THRESH_GAUSSIAN_C, \n",
    "        thresholdType=cv2.THRESH_BINARY_INV, \n",
    "        blockSize=505, \n",
    "        C=25)\n",
    "    \n",
    "    cleaned = cv_remove_small_objects(binary_local, 250)\n",
    "    \n",
    "    strel = cv2.getStructuringElement(cv2.MORPH_RECT,(40, 40))    \n",
    "    cleaned = cv2.dilate(np.array(cleaned, dtype=np.uint8), strel)\n",
    "    \n",
    "    cleaned = cv_remove_small_objects(cleaned, 15000)\n",
    "    \n",
    "    return cleaned\n",
    "\n",
    "def ImageToFeatures(img):\n",
    "    data = []\n",
    "    labels = []\n",
    "    for i, row in enumerate(img):\n",
    "        for j, val in enumerate(row):\n",
    "            if val:\n",
    "                data.append([j, i])\n",
    "                labels.append(val)    \n",
    "    return np.array(data), np.array(labels)\n",
    "\n",
    "def FeaturesToImage(fts, width, height, correction=False):\n",
    "    minx = min(fts[:, 0])\n",
    "    miny = min(fts[:, 1])\n",
    "\n",
    "    maxx = max(fts[:, 0])\n",
    "    maxy = max(fts[:, 1])\n",
    "    \n",
    "    image = np.zeros((width, height))\n",
    "    \n",
    "    if correction:\n",
    "        ft_width = maxx-minx\n",
    "        ft_height = maxy-miny\n",
    "        if ft_width > width or ft_height > height:\n",
    "            return np.ones((width, height))\n",
    "        indent_width = int((width-ft_width)/2)\n",
    "        indent_height = int((height-ft_height)/2)\n",
    "        for x, y in fts:\n",
    "            image[y-miny+indent_height-1, x-minx+indent_width-1] = 1\n",
    "    else:\n",
    "        for x, y in fts:\n",
    "            image[y, x] = 1\n",
    "            \n",
    "    return image\n",
    "\n",
    "def n_clusters(labels):\n",
    "    return len(set(labels)) - (1 if -1 in labels else 0)\n",
    "\n",
    "def get_tracings_from_binarized_image(image, notch_size=700):\n",
    "    nb_components, output, stats, centroids = \\\n",
    "        cv2.connectedComponentsWithStats(np.array(image, dtype=np.uint8), connectivity=4)\n",
    "    pixels, labels = ImageToFeatures(output)\n",
    "    \n",
    "    n_clt = n_clusters(labels)\n",
    "    \n",
    "    clusters = [np.where(labels==i)[0] for i in range(1, n_clt + 1)]\n",
    "    \n",
    "    notches=[]\n",
    "    for cluster in clusters:\n",
    "        notches.append([pixels[ix] for ix in cluster])\n",
    "    notches = np.array(notches)\n",
    "    \n",
    "    data=list(map(lambda x: FeaturesToImage(np.array(x), width=notch_size, height=notch_size, correction=True), notches))\n",
    "    data_src=list(map(lambda x: FeaturesToImage(np.array(x), width=image.shape[0], height=image.shape[1]), notches))\n",
    "    \n",
    "    data_prep = []\n",
    "    for dt in data:\n",
    "        if dt is not None:\n",
    "            data_prep.append(dt.reshape(notch_size**2))\n",
    "        else:\n",
    "            data_prep.append(np.zeros(notch_size**2))\n",
    "            \n",
    "    return (data, data_src, data_prep)"
   ]
  },
  {
   "cell_type": "code",
   "execution_count": 217,
   "metadata": {},
   "outputs": [],
   "source": [
    "path=os.getcwd() + '\\\\photo1\\\\'\n",
    "impaths = [f for f in listdir(path) if isfile(join(path, f))]"
   ]
  },
  {
   "cell_type": "code",
   "execution_count": 527,
   "metadata": {
    "scrolled": true
   },
   "outputs": [
    {
     "name": "stdout",
     "output_type": "stream",
     "text": [
      "processing 20180810_0056.jpg 1 of 54\n",
      "processing 20180810_0057.jpg 2 of 54\n",
      "processing 20180810_0058.jpg 3 of 54\n",
      "processing 20180810_0059.jpg 4 of 54\n",
      "processing 20180810_0060.jpg 5 of 54\n",
      "processing 20180810_0061.jpg 6 of 54\n",
      "processing 20180810_0062.jpg 7 of 54\n",
      "processing 20180810_0063.jpg 8 of 54\n",
      "processing 20180810_0064.jpg 9 of 54\n",
      "processing 20180810_0065.jpg 10 of 54\n",
      "processing 20180810_0066.jpg 11 of 54\n",
      "processing 20180810_0067.jpg 12 of 54\n",
      "processing 20180810_0068.jpg 13 of 54\n",
      "processing 20180810_0069.jpg 14 of 54\n",
      "processing 20180810_0070.jpg 15 of 54\n",
      "processing 20180810_0071.jpg 16 of 54\n",
      "processing 20180810_0072.jpg 17 of 54\n",
      "processing 20180810_0073.jpg 18 of 54\n",
      "processing 20180810_0074.jpg 19 of 54\n",
      "processing 20180810_0075.jpg 20 of 54\n",
      "processing 20180810_0076.jpg 21 of 54\n",
      "processing 20180810_0077.jpg 22 of 54\n",
      "processing 20180810_0078.jpg 23 of 54\n",
      "processing 20180810_0079.jpg 24 of 54\n",
      "processing 20180810_0080.jpg 25 of 54\n",
      "processing 20180810_0081.jpg 26 of 54\n",
      "processing 20180810_0082.jpg 27 of 54\n",
      "processing 20180810_0083.jpg 28 of 54\n",
      "processing 20180810_0084.jpg 29 of 54\n",
      "processing 20180810_0085.jpg 30 of 54\n",
      "processing 20180810_0086.jpg 31 of 54\n",
      "processing 20180810_0087.jpg 32 of 54\n",
      "processing 20180810_0088.jpg 33 of 54\n",
      "processing 20180810_0089.jpg 34 of 54\n",
      "processing 20180810_0090.jpg 35 of 54\n",
      "processing 20180810_0091.jpg 36 of 54\n",
      "processing 20180810_0092.jpg 37 of 54\n",
      "processing 20180810_0093.jpg 38 of 54\n",
      "processing 20180810_0094.jpg 39 of 54\n",
      "processing 20180810_0095.jpg 40 of 54\n",
      "processing 20180810_0096.jpg 41 of 54\n",
      "processing 20180810_0097.jpg 42 of 54\n",
      "processing 20180810_0098.jpg 43 of 54\n",
      "processing 20180810_0099.jpg 44 of 54\n",
      "processing 20180810_0100.jpg 45 of 54\n",
      "processing 20180810_0101.jpg 46 of 54\n",
      "processing 20180810_0102.jpg 47 of 54\n",
      "processing 20180810_0103.jpg 48 of 54\n",
      "processing 20180810_0104.jpg 49 of 54\n",
      "processing 20180810_0105.jpg 50 of 54\n",
      "processing 20180810_0106.jpg 51 of 54\n",
      "processing 20180810_0107.jpg 52 of 54\n",
      "processing 20180810_0108.jpg 53 of 54\n",
      "processing 20180810_0109.jpg 54 of 54\n",
      "Wall time: 3min 13s\n"
     ]
    }
   ],
   "source": [
    "%%time\n",
    "data = []\n",
    "data_src = []\n",
    "data_prep = []\n",
    "for n, impath in enumerate(impaths):\n",
    "    print(\"processing \" + impath + \" {} of {}\".format(n+1, len(impaths)))\n",
    "    image = cv2.imread(path+impath, cv2.IMREAD_GRAYSCALE)\n",
    "    bimage = binarize(image)\n",
    "    d, d_src, d_prep = get_tracings_from_binarized_image(bimage)\n",
    "    data += d\n",
    "    #data_src += d_src\n",
    "    #data_prep += d_prep    "
   ]
  },
  {
   "cell_type": "code",
   "execution_count": 528,
   "metadata": {},
   "outputs": [
    {
     "data": {
      "text/plain": [
       "336"
      ]
     },
     "execution_count": 528,
     "metadata": {},
     "output_type": "execute_result"
    }
   ],
   "source": [
    "len(data)"
   ]
  },
  {
   "cell_type": "code",
   "execution_count": 7,
   "metadata": {},
   "outputs": [],
   "source": [
    "import pickle\n",
    "\n",
    "#with open('outfile', 'wb') as fp:\n",
    "#    pickle.dump(data, fp)\n",
    "    \n",
    "with open ('outfile', 'rb') as fp:\n",
    "    data = pickle.load(fp)"
   ]
  },
  {
   "cell_type": "code",
   "execution_count": 1384,
   "metadata": {},
   "outputs": [
    {
     "name": "stdout",
     "output_type": "stream",
     "text": [
      "5\n"
     ]
    }
   ],
   "source": [
    "image = cv2.imread(path+impaths[42], cv2.IMREAD_GRAYSCALE)\n",
    "bimage = binarize(image)\n",
    "d, d_src, d_prep = get_tracings_from_binarized_image(bimage)\n",
    "print(len(d))"
   ]
  },
  {
   "cell_type": "markdown",
   "metadata": {},
   "source": [
    "0 - мусор<br>\n",
    "1 - засвет<br>\n",
    "2 - крест<br>\n",
    "3 - круг<br>\n",
    "4 - горизонтальная засечка<br>\n",
    "5 - вертикальная засечка<br>"
   ]
  },
  {
   "cell_type": "code",
   "execution_count": 200,
   "metadata": {},
   "outputs": [],
   "source": [
    "labels = [\n",
    "    #0\n",
    "    2, 0, 1, 2, 0, #4\n",
    "    #1\n",
    "    2, 1, 2, 5, 0, #9\n",
    "    #2\n",
    "    2, 5, 5, 0, 1, 0, #15\n",
    "    #3\n",
    "    5, 5, 5, 1, 0, #20\n",
    "    #4\n",
    "    5, 5, 5, 1, #24\n",
    "    #5\n",
    "    5, 5, 5, 1, #28\n",
    "    #6    \n",
    "    5, 5, 5, 1, #32\n",
    "    #7\n",
    "    5, 5, 5, 1, #36\n",
    "    #8\n",
    "    5, 5, 5, 1, #40\n",
    "    #9\n",
    "    5, 5, 5, 1, #44\n",
    "    #10\n",
    "    5, 5, 5, 1, #48\n",
    "    #11\n",
    "    5, 5, 5, 1, #52\n",
    "    #12\n",
    "    5, 5, 5, 1, #56\n",
    "    #13\n",
    "    5, 5, 5, 0, 1, #61\n",
    "    #14\n",
    "    5, 5, 5, 0, 1, #66\n",
    "    #15\n",
    "    2, 5, 5, 0, 1, #71\n",
    "    #16\n",
    "    2, 5, 1, 4, 2, 5, 1, #78\n",
    "    #17    \n",
    "    0, 2, 1, 5, 0, 0, 4, 2, 0, #87\n",
    "    #18\n",
    "    4, 0, 1, 0, 2, 0, 0, 5, 0, 0, 5, 1, #99\n",
    "    #19\n",
    "    4, 0, 1, 1, 5, 2, 1, #106\n",
    "    #20\n",
    "    4, 1, 1, 4, 0, 1, 0, #113\n",
    "    #21\n",
    "    4, 1, 0, 4, 1, 4, #119\n",
    "    #22\n",
    "    4, 1, 0, 1, 4, 1, 1, 4, 0, #128\n",
    "    #23\n",
    "    4, 0, 0, 1, 4, 5, 0, 4, 1, #137\n",
    "    #24\n",
    "    4, 1, 1, 1, 4, 0, 0, 4, 1, #146\n",
    "    #25\n",
    "    2, 0, 0, 1, 5, 4, 1, 1, 4, 1, #156\n",
    "    #26\n",
    "    2, 1, 1, 0, 2, 1, 0, 4,  #164\n",
    "    #27\n",
    "    0, 0, 1, 0, 1, 2, 0, 2, 1, #173\n",
    "    #28\n",
    "    1, 1, 2, 5, 1, #178\n",
    "    #29    \n",
    "    0, 1, 5, 2, 5, 1, 1, #184\n",
    "    #30\n",
    "    1, 5, 5, 5, 1, 1, #190\n",
    "    #31\n",
    "    0, 0, 5, 5, 5, 1, 1, #197\n",
    "    #32\n",
    "    1, 5, 5, 5, 1, 0, #203\n",
    "    #33\n",
    "    0, 5, 5, 5, 0, 1, 0, #210\n",
    "    #34\n",
    "    5, 5, 5, 0, 0, 1, 1, #217\n",
    "    #35\n",
    "    5, 5, 5, 0, 0, #222\n",
    "    #36\n",
    "    5, 5, 5, 1, 0, #227\n",
    "    #37\n",
    "    5, 5, 5, 0, 0, #232\n",
    "    #38\n",
    "    5, 5, 5, 0, 0, #237\n",
    "    #39\n",
    "    5, 5, 5, 0, 0, 0, #243\n",
    "    #40\n",
    "    5, 5, 5, 0, 0, 0, #249\n",
    "    #41\n",
    "    5, 5, 2, 0, 0, #254\n",
    "    #42\n",
    "    1, 5, 2, 2, 0, #259 !\n",
    "    #43\n",
    "    1, 2, 2, 0, 1, 0, #266 !\n",
    "    #44\n",
    "    1, 2, 2, 0, 1, 0, #272\n",
    "    #45\n",
    "    2, 4, 0, 1, 4, 0, #278\n",
    "    #46\n",
    "    4, 0, 4, 1, 0, 4, 1, #285\n",
    "    #47    \n",
    "    4, 0, 0, 4, 5, 1, 0, 1,\n",
    "    #48\n",
    "    4, 0, 4, 0, 0, 0, 1, \n",
    "    #49\n",
    "    4, 0, 0, 4, 0, 0, 1,\n",
    "    #50\n",
    "    4, 0, 0, 4, 1, 0, 1, \n",
    "    #51\n",
    "    4, 0, 4, 1, 0, 1, \n",
    "    #52\n",
    "    4, 0, 0, 4, 1, 1, 0, #327\n",
    "    #53\n",
    "    4, 0, 2, 5, 1, 0, 1, 1    \n",
    "]"
   ]
  },
  {
   "cell_type": "code",
   "execution_count": 12,
   "metadata": {},
   "outputs": [],
   "source": [
    "labels = [0 if l in (0, 1, 2, 3) else 1 for l in labels]"
   ]
  },
  {
   "cell_type": "markdown",
   "metadata": {},
   "source": [
    "0 - мусор<br>\n",
    "1 - засвет<br>\n",
    "2 - крест<br>\n",
    "3 - круг<br>\n",
    "4 - горизонтальная засечка<br>\n",
    "5 - вертикальная засечка<br>"
   ]
  },
  {
   "cell_type": "code",
   "execution_count": 207,
   "metadata": {},
   "outputs": [
    {
     "name": "stdout",
     "output_type": "stream",
     "text": [
      "1\n"
     ]
    },
    {
     "data": {
      "text/plain": [
       "<matplotlib.image.AxesImage at 0x16d8e1214a8>"
      ]
     },
     "execution_count": 207,
     "metadata": {},
     "output_type": "execute_result"
    },
    {
     "data": {
      "image/png": "[encoded data removed]",
      "text/plain": [
       "<Figure size 432x288 with 1 Axes>"
      ]
     },
     "metadata": {},
     "output_type": "display_data"
    }
   ],
   "source": [
    "i=325\n",
    "print(labels[i])\n",
    "io.imshow(data[i])"
   ]
  }
 ],
 "metadata": {
  "kernelspec": {
   "display_name": "Python 3",
   "language": "python",
   "name": "python3"
  },
  "language_info": {
   "codemirror_mode": {
    "name": "ipython",
    "version": 3
   },
   "file_extension": ".py",
   "mimetype": "text/x-python",
   "name": "python",
   "nbconvert_exporter": "python",
   "pygments_lexer": "ipython3",
   "version": "3.6.5"
  }
 },
 "nbformat": 4,
 "nbformat_minor": 2
}

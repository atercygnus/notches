{
 "cells": [
  {
   "cell_type": "code",
   "execution_count": 24,
   "metadata": {
    "collapsed": true
   },
   "outputs": [],
   "source": [
    "import os\n",
    "import matplotlib.pyplot as plt\n",
    "import numpy as np\n",
    "\n",
    "import cv2\n",
    "from cv2 import dilate\n",
    "from cv2 import adaptiveThreshold\n",
    "\n",
    "from os import listdir\n",
    "from os.path import isfile, join\n",
    "\n",
    "from skimage.morphology import *\n",
    "from skimage import io"
   ]
  },
  {
   "cell_type": "code",
   "execution_count": 19,
   "metadata": {
    "collapsed": true
   },
   "outputs": [],
   "source": [
    "def cv_remove_small_objects(im, min_size):\n",
    "    nb_components, output, stats, centroids = cv2.connectedComponentsWithStats(im, connectivity=8)\n",
    "    sizes = stats[1:, -1]; \n",
    "    nb_components = nb_components - 1\n",
    "\n",
    "    res = np.zeros((output.shape))\n",
    "    for i in range(0, nb_components):\n",
    "        if sizes[i] >= min_size:\n",
    "            res[output == i + 1] = 1\n",
    "            \n",
    "    return res\n",
    "\n",
    "def binarize(im):\n",
    "    binary_local = im=cv2.adaptiveThreshold(\n",
    "        src=np.array(cv2.medianBlur(im, 5), dtype=np.uint8), \n",
    "        maxValue=255, \n",
    "        adaptiveMethod=cv2.ADAPTIVE_THRESH_GAUSSIAN_C, \n",
    "        thresholdType=cv2.THRESH_BINARY_INV, \n",
    "        blockSize=99, \n",
    "        C=20)\n",
    "    \n",
    "    cleaned = cv_remove_small_objects(binary_local, 200)\n",
    "    \n",
    "    strel = cv2.getStructuringElement(cv2.MORPH_RECT,(30,30))    \n",
    "    cleaned = cv2.dilate(np.array(cleaned, dtype=np.uint8), strel)\n",
    "    \n",
    "    return cleaned\n",
    "\n",
    "def ImageToFeatures(img):\n",
    "    data = []\n",
    "    labels = []\n",
    "    for i, row in enumerate(img):\n",
    "        for j, val in enumerate(row):\n",
    "            if val:\n",
    "                data.append([j, i])\n",
    "                labels.append(val)    \n",
    "    return np.array(data), np.array(labels)\n",
    "\n",
    "def FeaturesToImage(fts, width, height, correction=False):\n",
    "    minx = min(fts[:, 0])\n",
    "    miny = min(fts[:, 1])\n",
    "\n",
    "    maxx = max(fts[:, 0])\n",
    "    maxy = max(fts[:, 1])\n",
    "    \n",
    "    image = np.zeros((width, height))\n",
    "    \n",
    "    if correction:\n",
    "        ft_width = maxx-minx\n",
    "        ft_height = maxy-miny\n",
    "        if ft_width > width or ft_height > height:\n",
    "            return np.zeros((width, height))\n",
    "        indent_width = int((width-ft_width)/2)\n",
    "        indent_height = int((height-ft_height)/2)\n",
    "        for x, y in fts:\n",
    "            image[y-miny+indent_height, x-minx+indent_width] = 1\n",
    "    else:\n",
    "        for x, y in fts:\n",
    "            image[y, x] = 1\n",
    "            \n",
    "    return image\n",
    "\n",
    "def n_clusters(labels):\n",
    "    return len(set(labels)) - (1 if -1 in labels else 0)\n",
    "\n",
    "def get_tracings_from_binarized_image(image, notch_size=700):\n",
    "    pixels, labels = ImageToFeatures(label(image))\n",
    "    \n",
    "    n_clt = n_clusters(labels)\n",
    "    \n",
    "    clusters = [np.where(labels==i)[0] for i in range(1, n_clt + 1)]\n",
    "    \n",
    "    notches=[]\n",
    "    for cluster in clusters:\n",
    "        notches.append([pixels[ix] for ix in cluster])\n",
    "    notches = np.array(notches)\n",
    "    \n",
    "    data=list(map(lambda x: FeaturesToImage(np.array(x), width=notch_size, height=notch_size, correction=True), notches))\n",
    "    data_src=list(map(lambda x: FeaturesToImage(np.array(x), width=image.shape[0], height=image.shape[1]), notches))\n",
    "    \n",
    "    data_prep = []\n",
    "    for dt in data:\n",
    "        if dt is not None:\n",
    "            data_prep.append(dt.reshape(notch_size**2))\n",
    "        else:\n",
    "            data_prep.append(np.zeros(notch_size**2))\n",
    "            \n",
    "    return (data, data_src, data_prep)"
   ]
  },
  {
   "cell_type": "code",
   "execution_count": 20,
   "metadata": {
    "collapsed": true
   },
   "outputs": [],
   "source": [
    "path='d:\\\\photo1\\\\'\n",
    "impaths = [f for f in listdir(path) if isfile(join(path, f))]"
   ]
  },
  {
   "cell_type": "code",
   "execution_count": null,
   "metadata": {
    "collapsed": true
   },
   "outputs": [],
   "source": [
    "data = []\n",
    "data_src = []\n",
    "data_prep = []\n",
    "for impath in impaths:\n",
    "    image = cv2.imread(path+impath, cv2.IMREAD_GRAYSCALE)\n",
    "    bimage = binarize(image)\n",
    "    d, d_src, d_prep = get_tracings_from_binarized_image(bimage)\n",
    "    ar"
   ]
  },
  {
   "cell_type": "code",
   "execution_count": 34,
   "metadata": {},
   "outputs": [
    {
     "data": {
      "text/plain": [
       "[1, 2, 3, 4, 5, 6]"
      ]
     },
     "execution_count": 34,
     "metadata": {},
     "output_type": "execute_result"
    }
   ],
   "source": [
    "a=[1,2,3]\n",
    "b=[4,5,6]\n",
    "a+b"
   ]
  },
  {
   "cell_type": "code",
   "execution_count": 27,
   "metadata": {},
   "outputs": [],
   "source": [
    "bimage = binarize(image)"
   ]
  },
  {
   "cell_type": "code",
   "execution_count": 29,
   "metadata": {},
   "outputs": [],
   "source": [
    "data, data_src, data_prep = get_tracings_from_binarized_image(bimage)"
   ]
  },
  {
   "cell_type": "code",
   "execution_count": 33,
   "metadata": {},
   "outputs": [
    {
     "name": "stderr",
     "output_type": "stream",
     "text": [
      "D:\\Anaconda\\lib\\site-packages\\skimage\\io\\_plugins\\matplotlib_plugin.py:77: UserWarning: Low image data range; displaying image with stretched contrast.\n",
      "  warn(\"Low image data range; displaying image with \"\n"
     ]
    },
    {
     "data": {
      "image/png": "[encoded data removed]",
      "text/plain": [
       "<matplotlib.figure.Figure at 0x614f3940>"
      ]
     },
     "metadata": {},
     "output_type": "display_data"
    }
   ],
   "source": [
    "io.imshow(data[2])\n",
    "plt.show()"
   ]
  },
  {
   "cell_type": "code",
   "execution_count": 32,
   "metadata": {},
   "outputs": [
    {
     "data": {
      "image/png": "[encoded data removed]",
      "text/plain": [
       "<matplotlib.figure.Figure at 0x5d78f7b8>"
      ]
     },
     "metadata": {},
     "output_type": "display_data"
    }
   ],
   "source": [
    "io.imshow(data_src[1])\n",
    "plt.show()"
   ]
  },
  {
   "cell_type": "code",
   "execution_count": null,
   "metadata": {
    "collapsed": true
   },
   "outputs": [],
   "source": []
  }
 ],
 "metadata": {
  "kernelspec": {
   "display_name": "Python 3",
   "language": "python",
   "name": "python3"
  },
  "language_info": {
   "codemirror_mode": {
    "name": "ipython",
    "version": 3
   },
   "file_extension": ".py",
   "mimetype": "text/x-python",
   "name": "python",
   "nbconvert_exporter": "python",
   "pygments_lexer": "ipython3",
   "version": "3.6.0"
  }
 },
 "nbformat": 4,
 "nbformat_minor": 2
}
